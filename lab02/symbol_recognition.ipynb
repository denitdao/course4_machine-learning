{
 "cells": [
  {
   "cell_type": "markdown",
   "metadata": {},
   "source": [
    "## Configuration"
   ]
  },
  {
   "cell_type": "code",
   "execution_count": 1,
   "metadata": {},
   "outputs": [],
   "source": [
    "import numpy as np\n",
    "np.random.seed(2)\n",
    "\n",
    "# [1 -> round, 2 -> square, 3 -> romb, 4 -> triangle, 5 -> ellipse]\n",
    "dataset = [\n",
    "    (np.array([[\n",
    "        0, 0, 1, 1, 1, 1, 0, 0,\n",
    "        0, 1, 0, 0, 0, 0, 1, 0,\n",
    "        1, 0, 0, 0, 0, 0, 0, 1,\n",
    "        1, 0, 0, 0, 0, 0, 0, 1,\n",
    "        1, 0, 0, 0, 0, 0, 0, 1,\n",
    "        1, 0, 0, 0, 0, 0, 0, 1,\n",
    "        0, 1, 0, 0, 0, 0, 1, 0,\n",
    "        0, 0, 1, 1, 1, 1, 0, 0\n",
    "    ]]),\n",
    "        np.array([[1, 0, 0, 0, 0]])),\n",
    "    (np.array([[\n",
    "        1, 1, 1, 1, 1, 1, 1, 1,\n",
    "        1, 0, 0, 0, 0, 0, 0, 1,\n",
    "        1, 0, 0, 0, 0, 0, 0, 1,\n",
    "        1, 0, 0, 0, 0, 0, 0, 1,\n",
    "        1, 0, 0, 0, 0, 0, 0, 1,\n",
    "        1, 0, 0, 0, 0, 0, 0, 1,\n",
    "        1, 0, 0, 0, 0, 0, 0, 1,\n",
    "        1, 1, 1, 1, 1, 1, 1, 1\n",
    "    ]]),\n",
    "        np.array([[0, 1, 0, 0, 0]])),\n",
    "    (np.array([[\n",
    "        0, 0, 0, 1, 1, 0, 0, 0,\n",
    "        0, 0, 1, 0, 0, 1, 0, 0,\n",
    "        0, 1, 0, 0, 0, 0, 1, 0,\n",
    "        1, 0, 0, 0, 0, 0, 0, 1,\n",
    "        1, 0, 0, 0, 0, 0, 0, 1,\n",
    "        0, 1, 0, 0, 0, 0, 1, 0,\n",
    "        0, 0, 1, 0, 0, 1, 0, 0,\n",
    "        0, 0, 0, 1, 1, 0, 0, 0\n",
    "    ]]),\n",
    "        np.array([[0, 0, 1, 0, 0]])),\n",
    "    (np.array([[\n",
    "        0, 0, 0, 1, 1, 0, 0, 0,\n",
    "        0, 0, 0, 1, 1, 0, 0, 0,\n",
    "        0, 0, 1, 0, 0, 1, 0, 0,\n",
    "        0, 0, 1, 0, 0, 1, 0, 0,\n",
    "        0, 1, 0, 0, 0, 0, 1, 0,\n",
    "        0, 1, 0, 0, 0, 0, 1, 0,\n",
    "        1, 0, 0, 0, 0, 0, 0, 1,\n",
    "        1, 1, 1, 1, 1, 1, 1, 1\n",
    "    ]]),\n",
    "        np.array([[0, 0, 0, 1, 0]])),\n",
    "    (np.array([[\n",
    "        0, 0, 0, 1, 1, 0, 0, 0,\n",
    "        0, 0, 1, 0, 0, 1, 0, 0,\n",
    "        0, 1, 0, 0, 0, 0, 1, 0,\n",
    "        0, 1, 0, 0, 0, 0, 1, 0,\n",
    "        0, 1, 0, 0, 0, 0, 1, 0,\n",
    "        0, 1, 0, 0, 0, 0, 1, 0,\n",
    "        0, 0, 1, 0, 0, 1, 0, 0,\n",
    "        0, 0, 0, 1, 1, 0, 0, 0\n",
    "    ]]),\n",
    "        np.array([[0, 0, 0, 0, 1]])),\n",
    "        (np.array([[\n",
    "        0, 0, 1, 1, 1, 1, 0, 0,\n",
    "        0, 1, 0, 0, 0, 0, 1, 0,\n",
    "        0, 1, 0, 0, 0, 0, 0, 1,\n",
    "        1, 0, 0, 0, 0, 0, 0, 1,\n",
    "        1, 0, 0, 0, 0, 0, 0, 1,\n",
    "        1, 0, 0, 0, 0, 0, 1, 0,\n",
    "        0, 1, 0, 0, 0, 0, 1, 0,\n",
    "        0, 0, 1, 1, 1, 1, 0, 0\n",
    "    ]]),\n",
    "        np.array([[1, 0, 0, 0, 0]])),\n",
    "    (np.array([[\n",
    "        1, 1, 1, 1, 1, 1, 1, 1,\n",
    "        1, 0, 0, 0, 0, 0, 0, 1,\n",
    "        1, 0, 0, 0, 0, 0, 0, 1,\n",
    "        1, 0, 0, 0, 0, 0, 0, 1,\n",
    "        1, 0, 0, 0, 0, 0, 0, 1,\n",
    "        1, 0, 0, 0, 0, 0, 0, 1,\n",
    "        1, 0, 0, 0, 0, 0, 0, 1,\n",
    "        1, 1, 1, 1, 1, 1, 1, 1\n",
    "    ]]),\n",
    "        np.array([[0, 1, 0, 0, 0]])),\n",
    "    (np.array([[\n",
    "        0, 0, 0, 1, 1, 0, 0, 0,\n",
    "        0, 0, 1, 0, 0, 1, 0, 0,\n",
    "        0, 1, 0, 0, 0, 0, 1, 0,\n",
    "        1, 0, 0, 0, 0, 0, 0, 1,\n",
    "        1, 0, 0, 0, 0, 0, 0, 1,\n",
    "        0, 1, 0, 0, 0, 0, 1, 0,\n",
    "        0, 0, 1, 0, 0, 1, 0, 0,\n",
    "        0, 0, 0, 1, 1, 0, 0, 0\n",
    "    ]]),\n",
    "        np.array([[0, 0, 1, 0, 0]])),\n",
    "    (np.array([[\n",
    "        0, 0, 0, 1, 1, 0, 0, 0,\n",
    "        0, 0, 1, 0, 0, 1, 0, 0,\n",
    "        0, 0, 1, 0, 0, 1, 0, 0,\n",
    "        0, 1, 0, 0, 0, 0, 1, 0,\n",
    "        0, 1, 0, 0, 0, 0, 1, 0,\n",
    "        0, 1, 0, 0, 0, 0, 1, 0,\n",
    "        1, 0, 0, 0, 0, 0, 0, 1,\n",
    "        1, 1, 1, 1, 1, 1, 1, 1\n",
    "    ]]),\n",
    "        np.array([[0, 0, 0, 1, 0]])),\n",
    "    (np.array([[\n",
    "        0, 0, 0, 1, 1, 0, 0, 0,\n",
    "        0, 0, 1, 0, 0, 1, 0, 0,\n",
    "        0, 0, 1, 0, 0, 0, 1, 0,\n",
    "        0, 1, 0, 0, 0, 0, 1, 0,\n",
    "        0, 1, 0, 0, 0, 0, 1, 0,\n",
    "        0, 1, 0, 0, 0, 1, 0, 0,\n",
    "        0, 0, 1, 0, 0, 1, 0, 0,\n",
    "        0, 0, 0, 1, 1, 0, 0, 0\n",
    "    ]]),\n",
    "        np.array([[0, 0, 0, 0, 1]]))\n",
    "]\n",
    "\n",
    "IN_DIM = 64\n",
    "H_DIM = 10\n",
    "OUT_DIM = 5\n",
    "\n",
    "ALPHA = 0.01\n",
    "NUM_EPOCHS = 700\n",
    "\n",
    "W1 = np.random.randn(IN_DIM, H_DIM)\n",
    "b1 = np.random.randn(H_DIM)\n",
    "W2 = np.random.randn(H_DIM, OUT_DIM)\n",
    "b2 = np.random.randn(OUT_DIM)\n",
    "\n",
    "# print(dataset)"
   ]
  },
  {
   "cell_type": "code",
   "execution_count": 2,
   "metadata": {},
   "outputs": [],
   "source": [
    "# used to turn off some of the weights. resulting [0, inf]\n",
    "def relu(s):\n",
    "    return np.maximum(s, 0)\n",
    "\n",
    "\n",
    "def relu_deriv(s):\n",
    "    s[s <= 0] = 0\n",
    "    s[s > 0] = 1\n",
    "    return s\n",
    "\n",
    "\n",
    "# used to predict probability. resulting [0, 1]\n",
    "def sigmoid(s):\n",
    "    return 1 / (1 + np.exp(-s))\n",
    "\n",
    "\n",
    "def sigmoid_deriv(s):\n",
    "    return s * (1 - s)\n",
    "\n",
    "\n",
    "def softmax(s):\n",
    "    out = np.exp(s)\n",
    "    return out / np.sum(out)\n",
    "\n",
    "\n",
    "# mean squared error\n",
    "def mse(y, y_hat):\n",
    "    return np.square(y - y_hat).mean(axis=None)"
   ]
  },
  {
   "cell_type": "markdown",
   "metadata": {},
   "source": [
    "## ReLU -> Softmax"
   ]
  },
  {
   "cell_type": "code",
   "execution_count": 50,
   "metadata": {},
   "outputs": [
    {
     "name": "stdout",
     "output_type": "stream",
     "text": [
      "Error: 0.0002765589\n"
     ]
    }
   ],
   "source": [
    "def predict(x):\n",
    "    s1 = x.dot(W1) + b1\n",
    "    h = relu(s1)\n",
    "    s2 = h.dot(W2) + b2\n",
    "    y = softmax(s2)\n",
    "    return y\n",
    "\n",
    "# learning\n",
    "loss = []\n",
    "\n",
    "for e in range(NUM_EPOCHS):\n",
    "    # np.random.shuffle(dataset)\n",
    "    for i in range(len(dataset)):\n",
    "        x, result = dataset[i]\n",
    "\n",
    "    # forward\n",
    "        s1 = x.dot(W1) + b1\n",
    "        h = relu(s1)\n",
    "        s2 = h.dot(W2) + b2\n",
    "        y = softmax(s2)\n",
    "\n",
    "    # error\n",
    "        E = mse(result, y)\n",
    "\n",
    "    # backward\n",
    "        ds2 = (y - result)\n",
    "        dW2 = h.T.dot(ds2)\n",
    "        db2 = np.sum(ds2, axis=0, keepdims=False)\n",
    "\n",
    "        dh = np.array(ds2).dot(W2.T)\n",
    "\n",
    "        ds1 = dh * relu_deriv(s1)\n",
    "        dW1 = x.T.dot(ds1)\n",
    "        db1 = np.sum(ds1, axis=0, keepdims=False)\n",
    "\n",
    "    # update weights\n",
    "        W2 -= ALPHA * dW2\n",
    "        b2 -= ALPHA * db2\n",
    "        W1 -= ALPHA * dW1\n",
    "        b1 -= ALPHA * db1\n",
    "\n",
    "        loss.append(E)\n",
    "\n",
    "print(\"Error: {:.10f}\".format(sum(loss[-5:]) / 5))"
   ]
  },
  {
   "cell_type": "markdown",
   "metadata": {},
   "source": [
    "## ReLU -> Sigmoid"
   ]
  },
  {
   "cell_type": "code",
   "execution_count": 3,
   "metadata": {},
   "outputs": [
    {
     "name": "stdout",
     "output_type": "stream",
     "text": [
      "Error: 0.0000026755\n"
     ]
    }
   ],
   "source": [
    "def predict(x):\n",
    "    s1 = x.dot(W1) + b1\n",
    "    h = relu(s1)\n",
    "    s2 = h.dot(W2) + b2\n",
    "    y = sigmoid(s2)\n",
    "    return y\n",
    "\n",
    "# learning\n",
    "loss = []\n",
    "\n",
    "for e in range(NUM_EPOCHS):\n",
    "    # np.random.shuffle(dataset)\n",
    "    for i in range(len(dataset)):\n",
    "        x, result = dataset[i]\n",
    "\n",
    "    # forward\n",
    "        s1 = x.dot(W1) + b1\n",
    "        h = relu(s1)\n",
    "        s2 = h.dot(W2) + b2\n",
    "        y = sigmoid(s2)\n",
    "\n",
    "    # error\n",
    "        E = mse(result, y)\n",
    "\n",
    "    # backward\n",
    "        ds2 = (y - result)\n",
    "        dW2 = h.T.dot(ds2)\n",
    "        db2 = np.sum(ds2, axis=0, keepdims=False)\n",
    "\n",
    "        dh = np.array(ds2).dot(W2.T)\n",
    "\n",
    "        ds1 = dh * relu_deriv(s1)\n",
    "        dW1 = x.T.dot(ds1)\n",
    "        db1 = np.sum(ds1, axis=0, keepdims=False)\n",
    "\n",
    "    # update weights\n",
    "        W2 -= ALPHA * dW2\n",
    "        b2 -= ALPHA * db2\n",
    "        W1 -= ALPHA * dW1\n",
    "        b1 -= ALPHA * db1\n",
    "\n",
    "        loss.append(E)\n",
    "\n",
    "print(\"Error: {:.10f}\".format(sum(loss[-5:]) / 5))"
   ]
  },
  {
   "cell_type": "markdown",
   "metadata": {},
   "source": [
    "## Sigmoid -> ReLU"
   ]
  },
  {
   "cell_type": "code",
   "execution_count": 64,
   "metadata": {},
   "outputs": [
    {
     "name": "stdout",
     "output_type": "stream",
     "text": [
      "Error: 0.0000001228\n"
     ]
    }
   ],
   "source": [
    "def predict(x):\n",
    "    s1 = x.dot(W1) + b1\n",
    "    h = sigmoid(s1)\n",
    "    s2 = h.dot(W2) + b2\n",
    "    y = relu(s2)\n",
    "    return y\n",
    "\n",
    "# learning\n",
    "loss = []\n",
    "\n",
    "for e in range(NUM_EPOCHS):\n",
    "    for i in range(len(dataset)):\n",
    "        x, result = dataset[i]\n",
    "\n",
    "    # forward\n",
    "        s1 = x.dot(W1) + b1\n",
    "        h = sigmoid(s1)\n",
    "\n",
    "        s2 = h.dot(W2) + b2\n",
    "        y = relu(s2)\n",
    "\n",
    "    # error\n",
    "        E = mse(result, y)\n",
    "\n",
    "    # backward\n",
    "        ds2 = (y - result)\n",
    "        dW2 = h.T.dot(ds2)\n",
    "        db2 = np.sum(ds2, axis=0, keepdims=False)\n",
    "\n",
    "        dh = np.array(ds2).dot(W2.T)\n",
    "\n",
    "        ds1 = dh * sigmoid_deriv(h)\n",
    "        dW1 = x.T.dot(ds1)\n",
    "        db1 = np.sum(ds1, axis=0, keepdims=False)\n",
    "\n",
    "    # update weights\n",
    "        W2 -= ALPHA * dW2\n",
    "        b2 -= ALPHA * db2\n",
    "        W1 -= ALPHA * dW1\n",
    "        b1 -= ALPHA * db1\n",
    "\n",
    "        loss.append(E)\n",
    "        \n",
    "print(\"Error: {:.10f}\".format(sum(loss[-5:]) / 5))"
   ]
  },
  {
   "cell_type": "markdown",
   "metadata": {},
   "source": [
    "## Test the result"
   ]
  },
  {
   "cell_type": "code",
   "execution_count": 7,
   "metadata": {},
   "outputs": [
    {
     "name": "stdout",
     "output_type": "stream",
     "text": [
      "Predicted:  ellipse\n",
      "round      -> 0.00%\n",
      "square     -> 1.84%\n",
      "romb       -> 0.00%\n",
      "triangle   -> 10.24%\n",
      "ellipse    -> 87.80%\n"
     ]
    }
   ],
   "source": [
    "# [1 -> round, 2 -> square, 3 -> romb, 4 -> triangle, 5 -> ellipse]\n",
    "class_names = ['round', 'square', 'romb', 'triangle', 'ellipse']\n",
    "x = np.array([[\n",
    "        1, 0, 0, 1, 1, 0, 0, 1,\n",
    "        0, 0, 1, 0, 0, 1, 0, 0,\n",
    "        0, 0, 1, 0, 0, 0, 1, 0,\n",
    "        0, 1, 0, 0, 0, 0, 0, 1,\n",
    "        0, 1, 0, 0, 0, 0, 0, 1,\n",
    "        0, 1, 0, 0, 0, 0, 1, 0,\n",
    "        0, 0, 1, 0, 0, 1, 0, 0,\n",
    "        1, 0, 0, 1, 1, 0, 0, 1\n",
    "    ]]) # square\n",
    "\n",
    "probs = predict(x)\n",
    "letter = class_names[np.argmax(probs)]\n",
    "print('Predicted: ', letter)\n",
    "for i in range(len(probs[0])):\n",
    "    print(\"{:10} -> {:.2%}\".format(class_names[i], probs[0][i]))\n"
   ]
  },
  {
   "cell_type": "code",
   "execution_count": 61,
   "metadata": {},
   "outputs": [
    {
     "data": {
      "image/png": "[encoded data removed]",
      "text/plain": [
       "<Figure size 432x288 with 1 Axes>"
      ]
     },
     "metadata": {
      "needs_background": "light"
     },
     "output_type": "display_data"
    }
   ],
   "source": [
    "import matplotlib.pyplot as plt\n",
    "plt.plot(loss)\n",
    "plt.xlabel(\"Iteration Number\")\n",
    "plt.ylabel(\"Error\")\n",
    "plt.show()\n"
   ]
  },
  {
   "cell_type": "code",
   "execution_count": null,
   "metadata": {},
   "outputs": [],
   "source": [
    "        # print('x', x)\n",
    "        # print('W1', W1)\n",
    "        # print(' b1', b1)\n",
    "        # print('  s1', s1)\n",
    "        # print('     h', h)\n",
    "        # print('       W2', W2)\n",
    "        # print('        b2', b2)\n",
    "        # print('         s2', s2)\n",
    "        # print('y', y)\n",
    "        # print('        ds2', ds2)\n",
    "        # print('       db2', db2)\n",
    "        # print('      dW2', dW2)\n",
    "        # print('     dh', dh)\n",
    "        # print('  ds1', ds1)\n",
    "        # print(' db1', db1)\n",
    "        # print('dW1', dW1)\n",
    "        # print('error:', E)"
   ]
  }
 ],
 "metadata": {
  "interpreter": {
   "hash": "1242008a101584ec60f4526738eb25a7d6d02eecdd92d4d9f546bea6d19a7f6b"
  },
  "kernelspec": {
   "display_name": "Python 3.9.7 64-bit (windows store)",
   "name": "python3"
  },
  "language_info": {
   "codemirror_mode": {
    "name": "ipython",
    "version": 3
   },
   "file_extension": ".py",
   "mimetype": "text/x-python",
   "name": "python",
   "nbconvert_exporter": "python",
   "pygments_lexer": "ipython3",
   "version": "3.9.7"
  },
  "orig_nbformat": 4
 },
 "nbformat": 4,
 "nbformat_minor": 2
}
