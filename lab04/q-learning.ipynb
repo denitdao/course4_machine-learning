{
 "cells": [
  {
   "cell_type": "code",
   "execution_count": 1,
   "metadata": {},
   "outputs": [],
   "source": [
    "import numpy as np\n",
    "# np.random.seed(3)\n",
    "\n",
    "MATRIX_SIZE = 10\n",
    "TARGET_STATE = [9]\n",
    "GAMMA = 0.8\n",
    "\n",
    "# R = np.matrix(np.ones(shape=(MATRIX_SIZE, MATRIX_SIZE)))\n",
    "# R *= -1\n",
    "R = np.matrix(\n",
    "    [[-1.,  0 , -1., -1., -1., -1., -1., -1., -1., 100],\n",
    "     [ 0 , -1.,  0 , -1., -1., -1., -1., -1., -1., -1.],\n",
    "     [-1.,  0 , -1., -1., -1.,  0 , -1., -1., -1., -1.],\n",
    "     [-1., -1., -1., -1.,  0 , -1.,  0 , -1., -1., -1.],\n",
    "     [-1., -1., -1.,  0 , -1.,  0 , -1., -1., -1., -1.],\n",
    "     [-1., -1.,  0 , -1.,  0 , -1., -1., -1.,  0 , -1.],\n",
    "     [-1., -1., -1.,  0 , -1., -1., -1.,  0 , -1., -1.],\n",
    "     [-1., -1., -1., -1., -1., -1.,  0 , -1.,  0 , 100],\n",
    "     [-1., -1., -1., -1., -1.,  0 , -1.,  0 , -1., -1.],\n",
    "     [ 0 , -1., -1., -1., -1., -1., -1.,  0 , -1., 100]])\n",
    "\n",
    "Q = np.matrix(np.zeros([MATRIX_SIZE, MATRIX_SIZE]))\n"
   ]
  },
  {
   "cell_type": "code",
   "execution_count": 2,
   "metadata": {},
   "outputs": [],
   "source": [
    "def get_available_states(state):\n",
    "    current_state_row = R[state, ]\n",
    "    available_states = np.where(current_state_row >= 0)[1]\n",
    "    return available_states\n",
    "\n",
    "\n",
    "def get_random_next_state(available_states):\n",
    "    next_state = int(np.random.choice(available_states, size = 1))\n",
    "    return next_state\n",
    "\n",
    "\n",
    "def get_best_next_state(state):\n",
    "    index_row = Q[state, ]\n",
    "    max_index = np.where(index_row == np.max(index_row))[1]\n",
    "\n",
    "    if max_index.shape[0] > 1:\n",
    "        max_index = int(np.random.choice(max_index, size = 1))\n",
    "    else:\n",
    "        max_index = int(max_index)\n",
    "    return max_index\n",
    "\n",
    "\n",
    "def update_Q(current_state, state, GAMMA):\n",
    "    next_max_state = get_best_next_state(state)\n",
    "    max_value = Q[state, next_max_state]\n",
    "\n",
    "    Q[current_state, state] = R[current_state, state] + GAMMA * max_value\n",
    "    #      print('max_value', Q[current_state, state])\n"
   ]
  },
  {
   "cell_type": "code",
   "execution_count": 3,
   "metadata": {},
   "outputs": [],
   "source": [
    "# training ------------\n",
    "for i in range(700):\n",
    "    current_state = np.random.randint(0, MATRIX_SIZE)\n",
    "    available = get_available_states(current_state)\n",
    "    next_state = get_random_next_state(available)\n",
    "    update_Q(current_state, next_state, GAMMA)\n"
   ]
  },
  {
   "cell_type": "code",
   "execution_count": 4,
   "metadata": {},
   "outputs": [
    {
     "name": "stdout",
     "output_type": "stream",
     "text": [
      "Most efficient path: [4, 5, 8, 7, 9]\n"
     ]
    }
   ],
   "source": [
    "INITIAL_STATE = 4\n",
    "\n",
    "# print(\"Trained Q matrix:\")\n",
    "# print(Q / np.max(Q) * 100)\n",
    "\n",
    "# testing ------------\n",
    "current_state = INITIAL_STATE\n",
    "path = [current_state]\n",
    "\n",
    "while current_state not in TARGET_STATE:\n",
    "    next_step_index = get_best_next_state(current_state)\n",
    "    current_state = next_step_index\n",
    "    path.append(current_state)\n",
    "\n",
    "\n",
    "print(\"Most efficient path:\", path)"
   ]
  }
 ],
 "metadata": {
  "interpreter": {
   "hash": "1242008a101584ec60f4526738eb25a7d6d02eecdd92d4d9f546bea6d19a7f6b"
  },
  "kernelspec": {
   "display_name": "Python 3.9.7 64-bit (windows store)",
   "name": "python3"
  },
  "language_info": {
   "codemirror_mode": {
    "name": "ipython",
    "version": 3
   },
   "file_extension": ".py",
   "mimetype": "text/x-python",
   "name": "python",
   "nbconvert_exporter": "python",
   "pygments_lexer": "ipython3",
   "version": "3.9.9"
  },
  "orig_nbformat": 4
 },
 "nbformat": 4,
 "nbformat_minor": 2
}
