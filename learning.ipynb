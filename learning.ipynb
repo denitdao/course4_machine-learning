{
 "cells": [
  {
   "cell_type": "code",
   "execution_count": 122,
   "metadata": {},
   "outputs": [],
   "source": [
    "import numpy as np\n",
    "np.random.seed(3)\n",
    "\n",
    "def emptyArray(value):\n",
    "    array = np.zeros((1, 3))\n",
    "    array[0][value] = 1\n",
    "    return array\n",
    "\n",
    "from sklearn import datasets\n",
    "iris = datasets.load_iris()\n",
    "dataset = [(np.array(iris.data[i][None, ...]), emptyArray(iris.target[i])) for i in range(len(iris.target))]\n",
    "# dataset = [(np.array(iris.data[i][None, ...]), emptyArray(iris.target[i])) for i in range(2)]\n",
    "# print(dataset)\n",
    "\n",
    "IN_DIM = 4\n",
    "H_DIM = 8\n",
    "OUT_DIM = 3\n",
    "\n",
    "ALPHA = 0.01\n",
    "NUM_EPOCHS = 100\n",
    "\n",
    "W1 = np.random.randn(IN_DIM, H_DIM)\n",
    "b1 = np.random.randn(H_DIM)\n",
    "W2 = np.random.randn(H_DIM, OUT_DIM)\n",
    "b2 = np.random.randn(OUT_DIM)\n"
   ]
  },
  {
   "cell_type": "code",
   "execution_count": 123,
   "metadata": {},
   "outputs": [],
   "source": [
    "# used to turn off some of the weights. resulting [0, inf]\n",
    "def relu(s):\n",
    "    return np.maximum(s, 0)\n",
    "\n",
    "\n",
    "def relu_deriv(s):\n",
    "    s[s <= 0] = 0\n",
    "    s[s > 0] = 1\n",
    "    return s\n",
    "\n",
    "\n",
    "# used to predict probability. resulting [0, 1]\n",
    "def sigmoid(s):\n",
    "    return 1 / (1 + np.exp(-s))\n",
    "\n",
    "\n",
    "def sigmoid_deriv(s):\n",
    "    return s * (1 - s)\n",
    "\n",
    "\n",
    "def softmax(s):\n",
    "    out = np.exp(s)\n",
    "    return out / np.sum(out)\n",
    "\n",
    "\n",
    "# mean squared error\n",
    "def mse(y, y_hat):\n",
    "    return np.square(y - y_hat).mean(axis=None)\n",
    "\n",
    "\n",
    "def predict(x):\n",
    "    s1 = x.dot(W1) + b1\n",
    "    h = relu(s1)\n",
    "    # h = sigmoid(s1)\n",
    "    s2 = h.dot(W2) + b2\n",
    "    y = sigmoid(s2)\n",
    "    return y\n",
    "\n",
    "\n",
    "# learning\n",
    "\n",
    "loss = []\n",
    "\n",
    "for e in range(NUM_EPOCHS):\n",
    "    # np.random.shuffle(dataset)\n",
    "    for i in range(len(dataset)):\n",
    "        x, result = dataset[i]\n",
    "\n",
    "    # forward\n",
    "        s1 = x.dot(W1) + b1\n",
    "        h = relu(s1)\n",
    "        # h = sigmoid(s1)\n",
    "\n",
    "        s2 = h.dot(W2) + b2\n",
    "        y = sigmoid(s2)\n",
    "        # y = softmax(s2)\n",
    "\n",
    "    # error\n",
    "        E = mse(result, y)\n",
    "        # print('result ', result)\n",
    "        # print('y ', y)\n",
    "        # print('E ', E)\n",
    "        # print('(result - y) ', (result - y))\n",
    "\n",
    "    # backward - using the derevative (gradient) to know the direction to go to reduce the error\n",
    "        # ds2 = (result - y) * sigmoid_deriv(y)\n",
    "        ds2 = y - result\n",
    "        dW2 = h.T.dot(ds2)\n",
    "        db2 = np.sum(ds2, axis=0, keepdims=False)\n",
    "\n",
    "        dh = np.array(ds2).dot(W2.T)\n",
    "\n",
    "        # ds1 = dh * sigmoid_deriv(h)\n",
    "        ds1 = dh * relu_deriv(s1)\n",
    "        dW1 = x.T.dot(ds1)\n",
    "        db1 = np.sum(ds1, axis=0, keepdims=False)\n",
    "\n",
    "        # print('x', x)\n",
    "        # print('W1', W1)\n",
    "        # print(' b1', b1)\n",
    "        # print('  s1', s1)\n",
    "        # print('     h', h)\n",
    "        # print('       W2', W2)\n",
    "        # print('        b2', b2)\n",
    "        # print('         s2', s2)\n",
    "        # print('y', y)\n",
    "        # print('        ds2', ds2)\n",
    "        # print('       db2', db2)\n",
    "        # print('      dW2', dW2)\n",
    "        # print('     dh', dh)\n",
    "        # print('  ds1', ds1)\n",
    "        # print(' db1', db1)\n",
    "        # print('dW1', dW1)\n",
    "        # print('error:', E)\n",
    "\n",
    "    # update weights\n",
    "        W2 -= ALPHA * dW2\n",
    "        b2 -= ALPHA * db2\n",
    "        W1 -= ALPHA * dW1\n",
    "        b1 -= ALPHA * db1\n",
    "\n",
    "        loss.append(E)\n"
   ]
  },
  {
   "cell_type": "code",
   "execution_count": 121,
   "metadata": {},
   "outputs": [
    {
     "name": "stdout",
     "output_type": "stream",
     "text": [
      "Predicted class:  Setosa [[9.96778342e-01 9.97006191e-02 3.12257740e-11]]\n"
     ]
    }
   ],
   "source": [
    "x = np.array([[5.1, 3.5, 1.4, 0.2]]) # [1., 0., 0.]\n",
    "\n",
    "probs = predict(x)\n",
    "pred_class = np.argmax(probs)\n",
    "class_names = ['Setosa', 'Ver', 'Virgin']\n",
    "print('Predicted class: ', class_names[pred_class], probs)\n"
   ]
  },
  {
   "cell_type": "code",
   "execution_count": 124,
   "metadata": {},
   "outputs": [
    {
     "data": {
      "image/png": "[encoded data removed]",
      "text/plain": [
       "<Figure size 432x288 with 1 Axes>"
      ]
     },
     "metadata": {
      "needs_background": "light"
     },
     "output_type": "display_data"
    }
   ],
   "source": [
    "import matplotlib.pyplot as plt\n",
    "plt.plot(loss)\n",
    "plt.xlabel(\"Iteration Number\")\n",
    "plt.ylabel(\"Error\")\n",
    "plt.show()\n"
   ]
  }
 ],
 "metadata": {
  "interpreter": {
   "hash": "1242008a101584ec60f4526738eb25a7d6d02eecdd92d4d9f546bea6d19a7f6b"
  },
  "kernelspec": {
   "display_name": "Python 3.9.7 64-bit (windows store)",
   "name": "python3"
  },
  "language_info": {
   "codemirror_mode": {
    "name": "ipython",
    "version": 3
   },
   "file_extension": ".py",
   "mimetype": "text/x-python",
   "name": "python",
   "nbconvert_exporter": "python",
   "pygments_lexer": "ipython3",
   "version": "3.9.9"
  },
  "orig_nbformat": 4
 },
 "nbformat": 4,
 "nbformat_minor": 2
}
