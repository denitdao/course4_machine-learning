{
 "cells": [
  {
   "cell_type": "markdown",
   "metadata": {},
   "source": [
    "## Predict the number row"
   ]
  },
  {
   "cell_type": "code",
   "execution_count": 1,
   "metadata": {},
   "outputs": [],
   "source": [
    "import numpy as np\n",
    "np.random.seed(1)\n",
    "\n",
    "IN_DIM = 3\n",
    "OUT_DIM = 1\n",
    "\n",
    "ALPHA = 0.01\n",
    "NUM_EPOCHS = 300\n",
    "\n",
    "\n",
    "dataset = [(np.array([2.92, 3.56, 0.15]), 5.11),\n",
    "           (np.array([3.56, 0.15, 5.11]), 1.38),\n",
    "           (np.array([0.15, 5.11, 1.38]), 4.44),\n",
    "           (np.array([5.11, 1.38, 4.44]), 1.61),\n",
    "           (np.array([1.38, 4.44, 1.61]), 4.11),\n",
    "           (np.array([4.44, 1.61, 4.11]), 1.97),\n",
    "           (np.array([1.61, 4.11, 1.97]), 4.50),\n",
    "           (np.array([4.11, 1.97, 4.50]), 1.37),\n",
    "           (np.array([1.97, 4.50, 1.37]), 5.08),\n",
    "           (np.array([4.50, 1.37, 5.08]), 1.76)]\n",
    "\n",
    "# weights\n",
    "# W = np.random.randn(IN_DIM)\n",
    "W = np.array([0.5, 1.2, 0.7])\n"
   ]
  },
  {
   "cell_type": "code",
   "execution_count": 2,
   "metadata": {},
   "outputs": [],
   "source": [
    "# used to predict probability. resulting [0, 1]\n",
    "def sigmoid(s):\n",
    "    return 1 / (1 + np.exp(-s))\n",
    "\n",
    "\n",
    "def sigmoid_deriv(s):\n",
    "    return s * (1 - s)\n",
    "\n",
    "\n",
    "def predict(x):\n",
    "    s = x @ W\n",
    "    y = sigmoid(s)\n",
    "    return y\n",
    "\n",
    "\n",
    "# learning\n",
    "\n",
    "loss = []\n",
    "\n",
    "for e in range(NUM_EPOCHS):\n",
    "    for i in range(len(dataset)):\n",
    "        x, result = dataset[i]\n",
    "        \n",
    "        # forward\n",
    "        s = x @ W\n",
    "        y = sigmoid(s) * 10\n",
    "        \n",
    "        # mean squared error\n",
    "        E = np.square(y - result)  \n",
    "        \n",
    "        # backward - using the derevative (gradient) to know the direction to go to reduce the error\n",
    "        ds = (y - result) * sigmoid_deriv(y / 10)\n",
    "        dW = x * ds\n",
    "        \n",
    "        # print('x:', x)\n",
    "        # print(' W', W)\n",
    "        # print('  s', s)\n",
    "        # print('  ->y', y)\n",
    "        # print('  ds', ds)\n",
    "        # print(' dW', dW)\n",
    "        # print('error: ', E)\n",
    "\n",
    "        # update\n",
    "        W -= ALPHA * dW\n",
    "\n",
    "        loss.append(E)\n"
   ]
  },
  {
   "cell_type": "code",
   "execution_count": 3,
   "metadata": {},
   "outputs": [
    {
     "name": "stdout",
     "output_type": "stream",
     "text": [
      "Predicted:  1.474160205253321\n"
     ]
    },
    {
     "data": {
      "text/plain": [
       "array([-0.03310379,  0.08336957, -0.33402239])"
      ]
     },
     "execution_count": 3,
     "metadata": {},
     "output_type": "execute_result"
    }
   ],
   "source": [
    "# [2.92, 3.56, 0.15, 5.11, 1.38, 4.44, 1.61, 4.11, 1.97, 4.50, 1.37, 5.08, 1.76, 5.19, 1.58]\n",
    "# x = np.array([1.37, 5.08, 1.76])\n",
    "# x = np.array([2.92, 3.56, 0.15])\n",
    "x = np.array([5.08, 1.76, 5.19])\n",
    "\n",
    "probs = predict(x)\n",
    "print('Predicted: ', probs * 10)\n",
    "\n",
    "W"
   ]
  },
  {
   "cell_type": "code",
   "execution_count": 4,
   "metadata": {},
   "outputs": [
    {
     "data": {
      "image/png": "[encoded data removed]",
      "text/plain": [
       "<Figure size 432x288 with 1 Axes>"
      ]
     },
     "metadata": {
      "needs_background": "light"
     },
     "output_type": "display_data"
    }
   ],
   "source": [
    "import matplotlib.pyplot as plt\n",
    "plt.plot(loss)\n",
    "plt.xlabel(\"Iteration Number\")\n",
    "plt.ylabel(\"Error\")\n",
    "plt.show()\n"
   ]
  }
 ],
 "metadata": {
  "interpreter": {
   "hash": "1242008a101584ec60f4526738eb25a7d6d02eecdd92d4d9f546bea6d19a7f6b"
  },
  "kernelspec": {
   "display_name": "Python 3.9.7 64-bit (windows store)",
   "name": "python3"
  },
  "language_info": {
   "codemirror_mode": {
    "name": "ipython",
    "version": 3
   },
   "file_extension": ".py",
   "mimetype": "text/x-python",
   "name": "python",
   "nbconvert_exporter": "python",
   "pygments_lexer": "ipython3",
   "version": "3.9.8"
  },
  "orig_nbformat": 4
 },
 "nbformat": 4,
 "nbformat_minor": 2
}
