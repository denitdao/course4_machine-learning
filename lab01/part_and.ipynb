{
 "cells": [
  {
   "cell_type": "markdown",
   "source": [
    "## AND"
   ],
   "metadata": {}
  },
  {
   "cell_type": "code",
   "execution_count": 1,
   "source": [
    "import numpy as np\r\n",
    "\r\n",
    "x = np.array([0, 0])\r\n",
    "\r\n",
    "W = np.array([[1], [1]])"
   ],
   "outputs": [],
   "metadata": {}
  },
  {
   "cell_type": "code",
   "execution_count": 3,
   "source": [
    "def activation(s):\r\n",
    "    return 0 if s < 1.5 else 1\r\n",
    "\r\n",
    "\r\n",
    "def predict(x):\r\n",
    "    s = x @ W\r\n",
    "    y = activation(s)\r\n",
    "    return y"
   ],
   "outputs": [],
   "metadata": {}
  },
  {
   "cell_type": "code",
   "execution_count": 12,
   "source": [
    "probable = predict(x)\r\n",
    "print('prediction: ', probable)\r\n",
    "classes = ['False', 'True']\r\n",
    "print('Predicted class: ', classes[probable])"
   ],
   "outputs": [
    {
     "output_type": "stream",
     "name": "stdout",
     "text": [
      "prediction:  0\n",
      "Predicted class:  False\n"
     ]
    }
   ],
   "metadata": {}
  }
 ],
 "metadata": {
  "orig_nbformat": 4,
  "language_info": {
   "name": "python",
   "version": "3.9.7",
   "mimetype": "text/x-python",
   "codemirror_mode": {
    "name": "ipython",
    "version": 3
   },
   "pygments_lexer": "ipython3",
   "nbconvert_exporter": "python",
   "file_extension": ".py"
  },
  "kernelspec": {
   "name": "python3",
   "display_name": "Python 3.9.7 64-bit (windows store)"
  },
  "interpreter": {
   "hash": "1242008a101584ec60f4526738eb25a7d6d02eecdd92d4d9f546bea6d19a7f6b"
  }
 },
 "nbformat": 4,
 "nbformat_minor": 2
}